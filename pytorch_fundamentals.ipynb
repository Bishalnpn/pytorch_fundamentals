{
  "nbformat": 4,
  "nbformat_minor": 0,
  "metadata": {
    "colab": {
      "provenance": [],
      "authorship_tag": "ABX9TyNyGSr/5oB5/7TtgJj4n2St"
    },
    "kernelspec": {
      "name": "python3",
      "display_name": "Python 3"
    },
    "language_info": {
      "name": "python"
    }
  },
  "cells": [
    {
      "cell_type": "code",
      "execution_count": null,
      "metadata": {
        "colab": {
          "base_uri": "https://localhost:8080/",
          "height": 35
        },
        "id": "3b7rXLv3ElN4",
        "outputId": "6221e130-33e9-4f91-8fcb-f63a1acb4086"
      },
      "outputs": [
        {
          "output_type": "execute_result",
          "data": {
            "text/plain": [
              "'2.5.1+cu124'"
            ],
            "application/vnd.google.colaboratory.intrinsic+json": {
              "type": "string"
            }
          },
          "metadata": {},
          "execution_count": 2
        }
      ],
      "source": [
        "import torch\n",
        "torch.__version__\n"
      ]
    },
    {
      "cell_type": "code",
      "source": [
        "#Sclar and vector in Tensor\n",
        "scalar = torch.tensor(1)\n",
        "#Scalar is 0 dimension tensor\n",
        "#ndim can be used to know the dimension of a tensor\n",
        "scalar.ndim"
      ],
      "metadata": {
        "colab": {
          "base_uri": "https://localhost:8080/"
        },
        "id": "8KV0dXTreQJE",
        "outputId": "aeda2a4e-638d-4546-b46a-96fb4b19aecf"
      },
      "execution_count": null,
      "outputs": [
        {
          "output_type": "execute_result",
          "data": {
            "text/plain": [
              "0"
            ]
          },
          "metadata": {},
          "execution_count": 3
        }
      ]
    },
    {
      "cell_type": "markdown",
      "source": [
        "Vector is the tensor with single dimesion"
      ],
      "metadata": {
        "id": "q-gBgBsZMYWn"
      }
    },
    {
      "cell_type": "code",
      "source": [
        "vector = torch.tensor([1,2])\n",
        "#vector is defines with square braces and its number can define the dimension of the vector.\n",
        "#The representation of vector is flexible\n",
        "vector.ndim"
      ],
      "metadata": {
        "colab": {
          "base_uri": "https://localhost:8080/"
        },
        "id": "Z-HFkzZaMnap",
        "outputId": "2555b89d-679d-4a73-c6c2-5ae4bebeb12b"
      },
      "execution_count": null,
      "outputs": [
        {
          "output_type": "execute_result",
          "data": {
            "text/plain": [
              "1"
            ]
          },
          "metadata": {},
          "execution_count": 4
        }
      ]
    },
    {
      "cell_type": "code",
      "source": [
        "#shape of the vector is defined as the number of elements that are present inside the vector\n",
        "#The shape of vector is [2]\n",
        "vector.shape"
      ],
      "metadata": {
        "colab": {
          "base_uri": "https://localhost:8080/"
        },
        "id": "y7MO_nGwNT7f",
        "outputId": "83a11260-3507-4e57-c3cc-b784542a35b9"
      },
      "execution_count": null,
      "outputs": [
        {
          "output_type": "execute_result",
          "data": {
            "text/plain": [
              "torch.Size([2])"
            ]
          },
          "metadata": {},
          "execution_count": 5
        }
      ]
    },
    {
      "cell_type": "code",
      "source": [
        "#Matrix is tensor with dimension 2\n",
        "MATRIX = torch.tensor([[2,3],[6,4]])\n",
        "MATRIX.ndim\n",
        "#The side of matrix is [2,2] here 2 element deep and two element wide\n",
        "MATRIX.shape"
      ],
      "metadata": {
        "colab": {
          "base_uri": "https://localhost:8080/"
        },
        "id": "0br-psQwN3du",
        "outputId": "78ff4294-6fb1-49dd-ad4c-1d511a234f3e"
      },
      "execution_count": null,
      "outputs": [
        {
          "output_type": "execute_result",
          "data": {
            "text/plain": [
              "torch.Size([2, 2])"
            ]
          },
          "metadata": {},
          "execution_count": 6
        }
      ]
    },
    {
      "cell_type": "code",
      "source": [
        "TENSOR=torch.tensor([[[2,3],[5,9],[8,2]]])\n",
        "TENSOR.ndim\n",
        "TENSOR.shape\n",
        "#The size is [1,3,2] and goes from outer to inner"
      ],
      "metadata": {
        "colab": {
          "base_uri": "https://localhost:8080/"
        },
        "id": "jCT55mmBQdck",
        "outputId": "43d0ac17-2446-4db3-b8c9-2f648576bde8"
      },
      "execution_count": null,
      "outputs": [
        {
          "output_type": "execute_result",
          "data": {
            "text/plain": [
              "torch.Size([1, 3, 2])"
            ]
          },
          "metadata": {},
          "execution_count": 7
        }
      ]
    },
    {
      "cell_type": "markdown",
      "source": [
        "scalar and vector are represented with lowercase and MATRIX and TENSOR are represented with uppercase.\n",
        "# Random Tensors\n",
        "\n"
      ],
      "metadata": {
        "id": "EiKtR2mfRYzW"
      }
    },
    {
      "cell_type": "code",
      "source": [
        "#providing dimension and generating random tensor using rand\n",
        "random_tensor = torch.rand(size=(2,3))\n",
        "random_tensor, random_tensor.shape, random_tensor.dtype"
      ],
      "metadata": {
        "colab": {
          "base_uri": "https://localhost:8080/"
        },
        "id": "Pf3wCjHJhMbs",
        "outputId": "ac3c10f1-6fc4-415e-e068-e7a17a659066"
      },
      "execution_count": null,
      "outputs": [
        {
          "output_type": "execute_result",
          "data": {
            "text/plain": [
              "(tensor([[0.8294, 0.9190, 0.3334],\n",
              "         [0.1793, 0.3641, 0.7889]]),\n",
              " torch.Size([2, 3]),\n",
              " torch.float32)"
            ]
          },
          "metadata": {},
          "execution_count": 8
        }
      ]
    },
    {
      "cell_type": "code",
      "source": [
        "pic_tensor = torch.rand(size=(144,144,3))\n",
        "# pic_tensor, pic_tensor.ndim"
      ],
      "metadata": {
        "id": "P2rAfRFhkAfW"
      },
      "execution_count": null,
      "outputs": []
    },
    {
      "cell_type": "code",
      "source": [],
      "metadata": {
        "id": "gQoMkhkZEsQ_"
      },
      "execution_count": null,
      "outputs": []
    },
    {
      "cell_type": "markdown",
      "source": [
        "# Zeros and Ones\n",
        "Zeros and ones are used during masking as we have to train model not to use the certain features or tensors."
      ],
      "metadata": {
        "id": "eSmBzFx90yVe"
      }
    },
    {
      "cell_type": "code",
      "source": [
        "zeros = torch.zeros(size=(2,3))\n",
        "zeros\n",
        "ones = torch.ones(size=(2,3))\n",
        "ones"
      ],
      "metadata": {
        "colab": {
          "base_uri": "https://localhost:8080/"
        },
        "id": "Dn5zhTq4Mvcn",
        "outputId": "7d5099f8-2406-41aa-e6e2-740e82bf5fae"
      },
      "execution_count": null,
      "outputs": [
        {
          "output_type": "execute_result",
          "data": {
            "text/plain": [
              "tensor([[1., 1., 1.],\n",
              "        [1., 1., 1.]])"
            ]
          },
          "metadata": {},
          "execution_count": 10
        }
      ]
    },
    {
      "cell_type": "markdown",
      "source": [
        "# Range in Tensor"
      ],
      "metadata": {
        "id": "ORwxMWWK7wis"
      }
    },
    {
      "cell_type": "code",
      "source": [
        "range_tensor = torch.arange(0,10,2)\n",
        "range_tensor\n"
      ],
      "metadata": {
        "id": "QCrgGCbxOcIV",
        "colab": {
          "base_uri": "https://localhost:8080/"
        },
        "outputId": "597471be-5033-4d03-ecc2-bd09906164e1"
      },
      "execution_count": null,
      "outputs": [
        {
          "output_type": "execute_result",
          "data": {
            "text/plain": [
              "tensor([0, 2, 4, 6, 8])"
            ]
          },
          "metadata": {},
          "execution_count": 11
        }
      ]
    },
    {
      "cell_type": "code",
      "source": [
        "#can create tensors of zeros similar to other tensor\n",
        "zeros_tensor = torch.zeros_like(input=range_tensor)\n",
        "zeros_tensor"
      ],
      "metadata": {
        "colab": {
          "base_uri": "https://localhost:8080/"
        },
        "id": "J8xlUoqL8GMW",
        "outputId": "f28b6a4f-7569-4bab-b1ba-30d1421538a7"
      },
      "execution_count": null,
      "outputs": [
        {
          "output_type": "execute_result",
          "data": {
            "text/plain": [
              "tensor([0, 0, 0, 0, 0])"
            ]
          },
          "metadata": {},
          "execution_count": 12
        }
      ]
    },
    {
      "cell_type": "code",
      "source": [],
      "metadata": {
        "id": "dBCyxI5sDfbM"
      },
      "execution_count": null,
      "outputs": []
    },
    {
      "cell_type": "markdown",
      "source": [
        "#Datatype and device in Tensors\n",
        "Datatype in a tensor and device of tensor matters as the operation is done with the tensor of similar dataype and similar device"
      ],
      "metadata": {
        "id": "V-cP_DZ2Ed-L"
      }
    },
    {
      "cell_type": "code",
      "source": [
        "#float32 is the default size of tensor datatype and device is cpu\n",
        "float_datatype_tensor = torch.tensor([1.0, 2.0, 3.0],\n",
        "                                     dtype=None,\n",
        "                                     device=None)\n",
        "float_datatype_tensor.dtype, float_datatype_tensor.device\n",
        "float_16_tensor = torch.tensor([2.0, 3.0, 4.0], dtype=torch.float16)\n",
        "float_16_tensor"
      ],
      "metadata": {
        "colab": {
          "base_uri": "https://localhost:8080/"
        },
        "id": "r5BJJpZEEyoD",
        "outputId": "1f915611-b9f7-415a-9ac7-01bc25f329ec"
      },
      "execution_count": null,
      "outputs": [
        {
          "output_type": "execute_result",
          "data": {
            "text/plain": [
              "tensor([2., 3., 4.], dtype=torch.float16)"
            ]
          },
          "metadata": {},
          "execution_count": 13
        }
      ]
    },
    {
      "cell_type": "code",
      "source": [],
      "metadata": {
        "id": "-vKX5m6HFUzZ"
      },
      "execution_count": null,
      "outputs": []
    },
    {
      "cell_type": "markdown",
      "source": [
        "# Basic opeations in Tensors"
      ],
      "metadata": {
        "id": "AVgAMqTWbRRo"
      }
    },
    {
      "cell_type": "code",
      "source": [
        "a_tensor = torch.tensor([3,4,5])\n",
        "a_tensor + 10\n",
        "a_tensor * 2\n",
        "#only change when assigned\n",
        "a_tensor\n",
        "b_tensor = a_tensor + 2\n",
        "#we can also use torch function for multiplication and addition\n",
        "c_tensor = torch.multiply(a_tensor, 20)\n",
        "c_tensor\n",
        "#Elementwise multiplication can also as \"*\"\n"
      ],
      "metadata": {
        "id": "mXOHiF9ibY3B",
        "colab": {
          "base_uri": "https://localhost:8080/"
        },
        "outputId": "de53b7ad-94f8-4e4b-e3ec-e97910a0afe9"
      },
      "execution_count": null,
      "outputs": [
        {
          "output_type": "execute_result",
          "data": {
            "text/plain": [
              "tensor([ 60,  80, 100])"
            ]
          },
          "metadata": {},
          "execution_count": 14
        }
      ]
    },
    {
      "cell_type": "markdown",
      "source": [],
      "metadata": {
        "id": "ILkP4pX0aLSe"
      }
    },
    {
      "cell_type": "code",
      "source": [],
      "metadata": {
        "id": "n564IpaNbk1S"
      },
      "execution_count": null,
      "outputs": []
    }
  ]
}